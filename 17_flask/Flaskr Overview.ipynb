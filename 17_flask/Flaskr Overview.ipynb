{
 "metadata": {
  "name": "",
  "signature": "sha256:11e3e796b8b699261031cf69ec4848e063e538b2f2f2fb2c77609f5ff8f84629"
 },
 "nbformat": 3,
 "nbformat_minor": 0,
 "worksheets": [
  {
   "cells": [
    {
     "cell_type": "markdown",
     "metadata": {},
     "source": [
      "# Flaskr Overview"
     ]
    },
    {
     "cell_type": "code",
     "collapsed": false,
     "input": [
      "## Imports\n",
      "# all the imports\n",
      "import os\n",
      "import sqlite3\n",
      "from flask import Flask, request, session, g, redirect, url_for, abort, \\\n",
      "     render_template, flash"
     ],
     "language": "python",
     "metadata": {},
     "outputs": [],
     "prompt_number": 4
    },
    {
     "cell_type": "markdown",
     "metadata": {},
     "source": [
      "## Database Schema\n",
      "=======================\n",
      "\n",
      "First we want to create the database schema. Only a single table is needed\n",
      "for this application and we only want to support SQLite  so creating the\n",
      "database schema is quite easy. Just put the following contents into a file\n",
      "named `schema.sql` in the just created `flaskr` folder:\n",
      "\n",
      "\n",
      "\n",
      "    drop table if exists entries;\n",
      "    create table entries (\n",
      "      id integer primary key autoincrement,\n",
      "      title text not null,\n",
      "      'text' text not null\n",
      "    );\n",
      "\n",
      "This schema consists of a single table called `entries` and each row in\n",
      "this table has an `id`, a `title` and a `text`.  The `id` is an\n",
      "automatically incrementing integer and a primary key, the other two are\n",
      "strings that must not be null."
     ]
    },
    {
     "cell_type": "markdown",
     "metadata": {},
     "source": [
      "## Application Code Setup\n",
      "\n",
      "\n",
      "    app = Flask(__name__)\n",
      "\n",
      "The \"\\__name__\" let's python know you're referring to the name if the module, in this case its flaskr because this file is named flaskr.py.\n",
      "\n",
      "\n",
      "### app.config.from_object\n",
      "\n",
      "    app.config.from_object(__name__)\n",
      "    \n",
      "Pulls in the configuration dictionary.  In this case, the dictionary is loaded from object \"name\", so from this file.\n",
      "\n",
      "### app.config.update\n",
      "\n",
      "`app.config.update` takes the app.config file that we just created\n",
      "\n",
      "\n",
      "    "
     ]
    },
    {
     "cell_type": "markdown",
     "metadata": {},
     "source": [
      "### Python Decorators\n",
      "\n",
      "* Decorators inject additional functionality into functions.\n",
      "* Decorators take a function as an argument, and return a replacement function"
     ]
    },
    {
     "cell_type": "code",
     "collapsed": false,
     "input": [
      "app.app_context?"
     ],
     "language": "python",
     "metadata": {},
     "outputs": [],
     "prompt_number": 43
    },
    {
     "cell_type": "markdown",
     "metadata": {},
     "source": [
      "## Flask \"Contexts\"\n",
      "\n",
      "There are two different 'states' in which code is executed.  The setup state, and the request handling state.\n",
      "\n",
      "### Application Context\n",
      "\n",
      "* g is the variable associated with the current application context  -- only programmer's commands can be executed here.\n",
      "* g can be used to safely store data\n",
      "\n",
      "\n",
      "### Request Context\n",
      "\n",
      "* In this context, the user's commands can be safely executed. "
     ]
    },
    {
     "cell_type": "markdown",
     "metadata": {},
     "source": [
      "### Flask 'Views': Portions of the DataBase\n",
      "\n",
      "A view is like a virtual table -- a specific look at data that is shown to, or used by,  a user of a website.\n",
      "\n",
      "\n",
      "A view in database theory,is the result set of a stored query on the data, which the database users can query just as they would in a persistent database collection object. "
     ]
    },
    {
     "cell_type": "markdown",
     "metadata": {},
     "source": [
      "### WSGI Environment\n",
      "\n",
      "WSGI is a protocol that ensures that a web application can speak to a webserver nicely.\n",
      "\n",
      "    def application(environ, start_response):\n",
      "    start_response('200 OK', [('Content-Type', 'text/plain')])\n",
      "    return ['Hello World!']\n",
      "    \n",
      "* *environ* contains any incoming information, also known as *request*\n",
      "* *start_response* indicates where to go to respond to the incoming data, also known as *response*"
     ]
    },
    {
     "cell_type": "markdown",
     "metadata": {},
     "source": [
      "### Werkzeug (WSGI)\n",
      "\n",
      "_Werk (\u201cwork\u201d) +\u200e Zeug (\u201cstuff\u201d)_\n",
      "\n",
      "![](http://upload.wikimedia.org/wikipedia/commons/thumb/5/5b/Agarre_de_un_bifaz.png/220px-Agarre_de_un_bifaz.png)\n",
      "Werkzeug is the base of flask and features:\n",
      "\n",
      "* HTTP header parsing and dumping\n",
      "* Easy to use request and response objects\n",
      "* Interactive JavaScript based in-browser debugger\n",
      "* 100% WSGI 1.0 compatible\n",
      "* Supports Python 2.6, 2.7 and 3.3.\n",
      "* Unicode support\n",
      "* Basic session and signed cookie support\n",
      "* URI and IRI utilities with unicode awareness\n",
      "* builtin library of fixes for buggy WSGI servers and browsers\n",
      "* integrated routing system for matching URLs to endpoints and vice versa"
     ]
    },
    {
     "cell_type": "markdown",
     "metadata": {},
     "source": [
      "### HTTP Request Methods: GET vs POST\n",
      "\n",
      "Two commonly used methods for a request-response between a client and server are: GET and POST.\n",
      "\n",
      "* GET - Requests data from a specified resource\n",
      "* POST - Submits data to be processed to a specified resource\n",
      "\n",
      "#### GET\n",
      "Query strings are sent in the URL of a GET request:\n",
      "\n",
      "    /test/demo_form.asp?name1=value1&name2=value2\n",
      "\n",
      "Some other notes on GET requests:\n",
      "\n",
      "* GET requests can be cached\n",
      "* GET requests remain in the browser history\n",
      "* GET requests can be bookmarked\n",
      "* GET requests should never be used when dealing with sensitive data\n",
      "* GET requests have length restrictions\n",
      "* GET requests should be used only to retrieve data\n",
      "\n",
      "#### POST\n",
      "\n",
      "Note that query strings (name/value pairs) are sent in the HTTP message body of a POST request:\n",
      "\n",
      "    POST /test/demo_form.asp HTTP/1.1\n",
      "    Host: scaleanalytics.com\n",
      "    name1=value1&name2=value2\n",
      "\n",
      "Some other notes on POST requests:\n",
      "\n",
      "* POST requests are never cached\n",
      "* POST requests do not remain in the browser history\n",
      "* POST requests cannot be bookmarked\n",
      "* POST requests have no restrictions on data length\n",
      "\n"
     ]
    },
    {
     "cell_type": "markdown",
     "metadata": {},
     "source": [
      "### Other HTTP Request Methods\n",
      "\n",
      "Method | Description\n",
      "------ | -----------\n",
      "HEAD |\tSame as GET but returns only HTTP headers and no document body\n",
      "PUT\t| Uploads a representation of the specified URI\n",
      "DELETE |\tDeletes the specified resource\n",
      "OPTIONS\t|Returns the HTTP methods that the server supports\n",
      "CONNECT\t|Converts the request connection to a transparent TCP/IP tunnel \n"
     ]
    },
    {
     "cell_type": "markdown",
     "metadata": {},
     "source": [
      "### Jinja Variables\n",
      "\n",
      "* Jinja takes variables passed by an application"
     ]
    },
    {
     "cell_type": "code",
     "collapsed": false,
     "input": [],
     "language": "python",
     "metadata": {},
     "outputs": [],
     "prompt_number": 50
    },
    {
     "cell_type": "markdown",
     "metadata": {
      "slideshow": {
       "slide_type": "slide"
      }
     },
     "source": [
      "\n",
      "\n",
      "## Helpful Flask Resources\n",
      "\n",
      "[Flask Mega Tutorial](http://blog.miguelgrinberg.com/post/the-flask-mega-tutorial-part-i-hello-world): The agreed upon best way to learn flask in depth.\n",
      "\n",
      "[Explore Flask](https://exploreflask.com/index.html): A nice, free, Flask book\n",
      "\n",
      "[Open Tech School - Websites with Python Flask](http://opentechschool.github.io/python-flask/): Very basic and thorough db-free tutorial.\n",
      "\n",
      "[Host your app for free on Heroku -- Basic Setup](https://devcenter.heroku.com/articles/getting-started-with-python-o)\n",
      "\n",
      "[Flask Template](https://github.com/stormpython/insightfl):  Flask template by Shelby Sturgis\n",
      "\n",
      "[\"Has Job\", an open source job-board written in flask](https://github.com/hasgeek/hasjob) that you can take apart and put together. Uses the hasgeek [baseframe](https://github.com/hasgeek/baseframe)\n",
      "\n",
      "[Flask Admin Extension](https://github.com/mrjoes/flask-admin/)\n",
      "\n",
      "[Flask TDD](https://github.com/mjhea0/flaskr-tdd): Adds sqlalchemy and heroku deployment and jquery to flaskr.\n",
      "\n",
      "\n",
      "### Helpful, non-Flask Specific\n",
      "\n",
      "* [Zetcode Python MySQL](http://zetcode.com/db/mysqlpython/) Good, brief, MySQL tutorial for Python\n"
     ]
    },
    {
     "cell_type": "markdown",
     "metadata": {},
     "source": []
    }
   ],
   "metadata": {}
  }
 ]
}