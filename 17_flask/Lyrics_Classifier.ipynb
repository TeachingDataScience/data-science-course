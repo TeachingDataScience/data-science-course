{
 "metadata": {
  "name": "",
  "signature": "sha256:124e532272ec44f4939afb7f75b610175135cda5fa418990a16033e665924b04"
 },
 "nbformat": 3,
 "nbformat_minor": 0,
 "worksheets": [
  {
   "cells": [
    {
     "cell_type": "code",
     "collapsed": false,
     "input": [],
     "language": "python",
     "metadata": {},
     "outputs": []
    },
    {
     "cell_type": "markdown",
     "metadata": {},
     "source": [
      "# Lyrics Classifier\n",
      "A Flask web application that provides an interface to enter lyrics and receive an artist prediction.\n",
      "\n",
      "```python\n",
      "\n",
      "# Standard imports\n",
      "import os\n",
      "import sqlite3\n",
      "\n",
      "# Flask imports\n",
      "from flask import Flask, request, g, redirect, url_for, render_template, flash\n",
      "\n",
      "# Import our classifier class\n",
      "from lyrics_classifier import LyricsClf\n",
      "\n",
      "# create the app as a global variable\n",
      "app = Flask(__name__)\n",
      "\n",
      "```"
     ]
    },
    {
     "cell_type": "code",
     "collapsed": false,
     "input": [],
     "language": "python",
     "metadata": {},
     "outputs": []
    },
    {
     "cell_type": "code",
     "collapsed": false,
     "input": [],
     "language": "python",
     "metadata": {},
     "outputs": []
    },
    {
     "cell_type": "markdown",
     "metadata": {},
     "source": [
      "## Configuration\n",
      "```python\n",
      "\n",
      "# Specify a basic configuration\n",
      "# (Remember that this step happens in the application context)\n",
      "app.config.update(dict(\n",
      "    DATABASE=os.path.join(app.root_path, 'lyrics.db'),\n",
      "    DEBUG=True,\n",
      "    SECRET_KEY='my super secret string',\n",
      "    CLF_PICKLE='classifier.p'\n",
      "))\n",
      "\n",
      "# Load our pickled classifier before servicing requests\n",
      "clf = LyricsClf(app.config['CLF_PICKLE'])\n",
      "\n",
      "```"
     ]
    },
    {
     "cell_type": "code",
     "collapsed": false,
     "input": [],
     "language": "python",
     "metadata": {},
     "outputs": []
    },
    {
     "cell_type": "markdown",
     "metadata": {},
     "source": [
      "## Database \n",
      "\n",
      "```python\n",
      "def connect_db():\n",
      "    \"\"\"Connects to the database defined in the application configuration.\n",
      "    Returns a sqlite3 object that allows rows to be manipulated as python\n",
      "    dictionaries.\n",
      "    \"\"\"\n",
      "    rv = sqlite3.connect(app.config['DATABASE'])\n",
      "    # allows a row to be accessed as a dictionary rather than a tuple.\n",
      "    rv.row_factory = sqlite3.Row\n",
      "    return rv\n",
      "# end of connect_db()\n",
      "\n",
      "def init_db():\n",
      "    \"\"\"Initialize the database from schema.sql.\n",
      "    This needs to be run once manually, or whenever the database table \n",
      "    should be dropped. This is not executed during online operation.\n",
      "    \"\"\"\n",
      "    # establish the application context\n",
      "    with app.app_context():\n",
      "        # Open a connection to the database\n",
      "        db = get_db()\n",
      "        # Open schema.sql\n",
      "        with app.open_resource('schema.sql','r') as f:\n",
      "            # Execute the commands in the schema file\n",
      "            db.cursor().executescript(f.read())\n",
      "        # Write changes to the database\n",
      "        db.commit()\n",
      "# end of init_db()\n",
      "\n",
      "\n",
      "\n",
      "```"
     ]
    },
    {
     "cell_type": "code",
     "collapsed": false,
     "input": [],
     "language": "python",
     "metadata": {},
     "outputs": []
    },
    {
     "cell_type": "markdown",
     "metadata": {},
     "source": [
      "## Views\n",
      "```python\n",
      "\n",
      "@app.route('/')\n",
      "def show_predictions():\n",
      "    \"\"\"Main view to display all lyric/artist predictions.\n",
      "    Returns them in descending order by id.\n",
      "    \"\"\"\n",
      "    db = get_db()\n",
      "    cur = db.execute('SELECT lyrics, artist FROM predictions ORDER BY id DESC')\n",
      "    predictions = cur.fetchall()\n",
      "    return render_template('show_predictions.html', predictions=predictions)\n",
      "# end of show_predictions()\n",
      "\n",
      "\n",
      "```"
     ]
    },
    {
     "cell_type": "code",
     "collapsed": false,
     "input": [],
     "language": "python",
     "metadata": {},
     "outputs": []
    },
    {
     "cell_type": "markdown",
     "metadata": {},
     "source": [
      "## Add Prediction\n",
      "\n",
      "```python\n",
      "\n",
      "@app.route('/add', methods=['POST'])\n",
      "def add_prediction():\n",
      "    \"\"\"Predicts an artist based on the lyrics posted in the form.\n",
      "    Finds the lyrics in the request object's form dictionary.\n",
      "    Calls our classifier's predictArtist routine to return an artist\n",
      "    name. Connects to the database and inserts the prediction.\n",
      "    Flashes a message that the prediction was posted. Redirects the\n",
      "    user from the /add endpoint back to the show_predictions endpoint.\n",
      "    \"\"\"\n",
      "    lyrics = request.form['lyrics']\n",
      "    \"\"\"\n",
      "    The step below is actually where our classifier gets run.\n",
      "    \"\"\"\n",
      "    ######################################\n",
      "    artistName = clf.predictArtist(lyrics)\n",
      "    ######################################\n",
      "    \"\"\"\n",
      "    Again, the code above is all of the 'datascience', everything else is WSGI and Jinja and SQL web stuff\n",
      "    \"\"\"\n",
      "```"
     ]
    },
    {
     "cell_type": "code",
     "collapsed": false,
     "input": [],
     "language": "python",
     "metadata": {},
     "outputs": []
    },
    {
     "cell_type": "markdown",
     "metadata": {},
     "source": [
      "## Feedback to the User\n",
      "\n",
      "```python\n",
      "    db = get_db()\n",
      "    # remember how we set our SQL driver to treat rows as dictionaries? win!\n",
      "    # note: question mark notation safer than string replacement\n",
      "    # helps to prevent SQLi attacks\n",
      "    db.execute('INSERT INTO predictions (lyrics, artist) values (?, ?)',\n",
      "        [lyrics, artistName])\n",
      "    # Note: question marks above are for safety and speed via 'parameterized queries'\n",
      "    db.commit()\n",
      "    flash('Prediction was successfully posted')\n",
      "    # another example where the framework is omnipotent: url_for()\n",
      "    return redirect(url_for('show_predictions'))\n",
      "# end of add_prediction()\n",
      "\n",
      "```"
     ]
    },
    {
     "cell_type": "markdown",
     "metadata": {},
     "source": [
      "## Window into the classifier file\n",
      "![](http://note.io/1tzeuSC)"
     ]
    },
    {
     "cell_type": "markdown",
     "metadata": {},
     "source": [
      "## Templates"
     ]
    },
    {
     "cell_type": "markdown",
     "metadata": {},
     "source": [
      "### Layout - The Parent\n",
      "```html\n",
      "<!doctype html>\n",
      "<head>\n",
      "<link href=\"//maxcdn.bootstrapcdn.com/bootswatch/3.3.0/yeti/bootstrap.min.css\"\n",
      "      rel=\"stylesheet\">\n",
      "\n",
      "{# Using a css via a cdn is a quick way to access\n",
      "the nice features from\n",
      "http://getbootstrap.com/css/\n",
      "\n",
      "Keep in mind that http is specified for local hosting, and\n",
      "otherwise just leave the http: off and go with //netd... etc.\n",
      "\n",
      "\n",
      "#}\n",
      "\n",
      "\n",
      "\n",
      "</head>\n",
      "<title>Artist Prediction</title>\n",
      "\n",
      "<div class=container>\n",
      "    <h1>Artist Prediction</h1>\n",
      "    <h3>Enter lyrics to predict the artist</h3>\n",
      "    {% for message in get_flashed_messages() %}\n",
      "        <div class=flash>{{ message }}</div>\n",
      "    {% endfor %}\n",
      "    {% block body %}{% endblock %}\n",
      "</div>\n",
      "~                                                                                                    \n",
      "~   \n",
      "```"
     ]
    },
    {
     "cell_type": "markdown",
     "metadata": {},
     "source": [
      "### Show Prediction (The Child)\n",
      "\n",
      "```html\n",
      "\n",
      "{% extends \"layout.html\" %}\n",
      "{% block body %}\n",
      "    <form action=\"{{ url_for('add_prediction') }}\" method=post class=add-prediction>\n",
      "\n",
      "{#\n",
      "Note that the form action is set to the url for a function.\n",
      "\n",
      "That url is specified buy the route in lyricsapp.py as /add\n",
      "#}\n",
      "        <dl>\n",
      "            <dt>Lyrics:\n",
      "            <dd><textarea name=lyrics rows=5 cols=40></textarea>\n",
      "            <dd><input type=submit value=Predict>\n",
      "        </dl>\n",
      "        {# Note that the form returns via 'request.form' to flask the\n",
      "        key: \"lyrics\" and the associated value when the button is\n",
      "        clicked.   \n",
      "\n",
      "\n",
      "        #}\n",
      "    </form>\n",
      "    <ul class=predictions>\n",
      "    {% for prediction in predictions %}\n",
      "        <li><h3>{{ prediction.lyrics}}</h3>{{ prediction.artist|safe }}\n",
      "    {% else %}\n",
      "        <li><em>No predictions yet. Try it out!</em>\n",
      "    {% endfor %}\n",
      "    </ul>\n",
      "{% endblock %}\n",
      "\n",
      "\n",
      "```"
     ]
    },
    {
     "cell_type": "markdown",
     "metadata": {},
     "source": []
    },
    {
     "cell_type": "markdown",
     "metadata": {},
     "source": []
    },
    {
     "cell_type": "markdown",
     "metadata": {},
     "source": []
    },
    {
     "cell_type": "markdown",
     "metadata": {},
     "source": [
      "## Test Phrases"
     ]
    },
    {
     "cell_type": "markdown",
     "metadata": {},
     "source": [
      "* She comes on like a rose\n",
      "* poison\n",
      "* jumping jack\n",
      "* beast of burden\n",
      "* mephis\n",
      "* club\n",
      "* bad romance\n",
      "* ready for those flashing lights\n",
      "* I want your leather-studded kiss in the sand\n",
      "* fashion\n",
      "* let it be\n",
      "* hello\n",
      "* goodbye\n",
      "* diamonds\n",
      "* lucy in the sky"
     ]
    },
    {
     "cell_type": "code",
     "collapsed": false,
     "input": [],
     "language": "python",
     "metadata": {},
     "outputs": []
    }
   ],
   "metadata": {}
  }
 ]
}